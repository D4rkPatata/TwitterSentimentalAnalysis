{
  "nbformat": 4,
  "nbformat_minor": 0,
  "metadata": {
    "colab": {
      "provenance": [],
      "authorship_tag": "ABX9TyMweUWFBULUP2OyN4FQMi18",
      "include_colab_link": true
    },
    "kernelspec": {
      "name": "python3",
      "display_name": "Python 3"
    },
    "language_info": {
      "name": "python"
    }
  },
  "cells": [
    {
      "cell_type": "markdown",
      "metadata": {
        "id": "view-in-github",
        "colab_type": "text"
      },
      "source": [
        "<a href=\"https://colab.research.google.com/github/D4rkPatata/TwitterSentimentalAnalysis/blob/main/TwitterModelTest.ipynb\" target=\"_parent\"><img src=\"https://colab.research.google.com/assets/colab-badge.svg\" alt=\"Open In Colab\"/></a>"
      ]
    },
    {
      "cell_type": "markdown",
      "source": [
        "Cargar Librerias"
      ],
      "metadata": {
        "id": "TD2jUQVyaLwT"
      }
    },
    {
      "cell_type": "code",
      "execution_count": 7,
      "metadata": {
        "colab": {
          "base_uri": "https://localhost:8080/"
        },
        "id": "imw9MUO4aJjU",
        "outputId": "3af75bed-f0a8-4e64-d442-2c4df61b6468"
      },
      "outputs": [
        {
          "output_type": "stream",
          "name": "stderr",
          "text": [
            "[nltk_data] Downloading package stopwords to /root/nltk_data...\n",
            "[nltk_data]   Package stopwords is already up-to-date!\n"
          ]
        }
      ],
      "source": [
        "import pandas as pd\n",
        "import re\n",
        "import nltk\n",
        "from nltk.corpus import stopwords\n",
        "from nltk.stem.porter import PorterStemmer\n",
        "import pickle\n",
        "\n",
        "nltk.download('stopwords')\n",
        "port_stem = PorterStemmer()\n",
        "english_stopwords = set(stopwords.words('english'))\n"
      ]
    },
    {
      "cell_type": "markdown",
      "source": [
        "Stemming"
      ],
      "metadata": {
        "id": "W5oW64iAbY_f"
      }
    },
    {
      "cell_type": "code",
      "source": [
        "def stemming(content):\n",
        "\n",
        "  stemmed_content = re.sub('[^a-zA-Z]', ' ', content)\n",
        "  stemmed_content = stemmed_content.lower()\n",
        "  stemmed_content = stemmed_content.split()\n",
        "  stemmed_content = [port_stem.stem(word) for word in stemmed_content if not word in english_stopwords]\n",
        "  stemmed_content = ' '.join(stemmed_content)\n",
        "  return stemmed_content\n",
        ""
      ],
      "metadata": {
        "id": "q8AtUpiNbXlC"
      },
      "execution_count": 8,
      "outputs": []
    },
    {
      "cell_type": "markdown",
      "source": [
        "Cargar modelo y el vectorizer"
      ],
      "metadata": {
        "id": "ssTyoXEkeHjv"
      }
    },
    {
      "cell_type": "code",
      "source": [
        "model= pickle.load(open('/content/trained_twitter_model.sav', 'rb'))\n",
        "vectorizer = pickle.load(open('/content/twitter_vectorizer.sav', 'rb'))"
      ],
      "metadata": {
        "id": "XstDYW3XbYrG"
      },
      "execution_count": 9,
      "outputs": []
    },
    {
      "cell_type": "markdown",
      "source": [
        "Funcion realizar el analisis"
      ],
      "metadata": {
        "id": "q-6EbftDgL-F"
      }
    },
    {
      "cell_type": "code",
      "source": [
        "def analyse_tweet(tweet):\n",
        "  tweet = stemming(tweet)\n",
        "  tweet = vectorizer.transform([tweet]).toarray()\n",
        "  prediction = model.predict(tweet)\n",
        "\n",
        "  if prediction==0:\n",
        "    print(\"Negative\")\n",
        "  else:\n",
        "    print(\"Positive\")\n"
      ],
      "metadata": {
        "id": "Dj-3v7sAgT_a"
      },
      "execution_count": 14,
      "outputs": []
    },
    {
      "cell_type": "markdown",
      "source": [
        "Probar"
      ],
      "metadata": {
        "id": "bK6afB24gcme"
      }
    },
    {
      "cell_type": "code",
      "source": [
        "##Acá colocar el tweet a analizar\n",
        "\n",
        "tweet=\"Robots gonna be so crazy in the future!\"\n",
        "\n",
        "analyse_tweet(tweet)\n",
        "\n"
      ],
      "metadata": {
        "colab": {
          "base_uri": "https://localhost:8080/"
        },
        "id": "JMQp_ziqgeTP",
        "outputId": "5d657c82-6212-4bd8-9fad-6ee90bd7615e"
      },
      "execution_count": 16,
      "outputs": [
        {
          "output_type": "stream",
          "name": "stdout",
          "text": [
            "Positive\n"
          ]
        }
      ]
    }
  ]
}